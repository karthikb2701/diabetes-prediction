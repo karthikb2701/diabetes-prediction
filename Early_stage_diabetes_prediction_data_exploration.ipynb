{
 "cells": [
  {
   "cell_type": "markdown",
   "metadata": {
    "colab_type": "text",
    "id": "view-in-github"
   },
   "source": [
    "<a href=\"https://colab.research.google.com/github/soumyabrataroy/Diabetes_Predictor_ML_App/blob/main/Early_stage_diabetes_prediction_data_exploration.ipynb\" target=\"_parent\"><img src=\"https://colab.research.google.com/assets/colab-badge.svg\" alt=\"Open In Colab\"/></a>"
   ]
  },
  {
   "cell_type": "markdown",
   "metadata": {
    "id": "lapbGCevek-L"
   },
   "source": [
    "**Data Source:**[UCI ML Repo](https://archive.ics.uci.edu/ml/datasets/Early+stage+diabetes+risk+prediction+dataset.)"
   ]
  },
  {
   "cell_type": "markdown",
   "metadata": {
    "id": "-xQ__g5ne5tB"
   },
   "source": [
    "# **All Features:**\n",
    "Age 1.20-65\n",
    "Sex 1. Male, 2.Female\n",
    "Polyuria 1.Yes, 2.No.\n",
    "Polydipsia 1.Yes, 2.No.\n",
    "sudden weight loss 1.Yes, 2.No.\n",
    "weakness 1.Yes, 2.No.\n",
    "Polyphagia 1.Yes, 2.No.\n",
    "Genital thrush 1.Yes, 2.No.\n",
    "visual blurring 1.Yes, 2.No.\n",
    "Itching 1.Yes, 2.No.\n",
    "Irritability 1.Yes, 2.No.\n",
    "delayed healing 1.Yes, 2.No.\n",
    "partial paresis 1.Yes, 2.No.\n",
    "muscle sti\u000b",
    "ness 1.Yes, 2.No.\n",
    "Alopecia 1.Yes, 2.No.\n",
    "Obesity 1.Yes, 2.No.\n",
    "**Class 1.Positive, 2.Negative.**"
   ]
  },
  {
   "cell_type": "markdown",
   "metadata": {
    "id": "5H8UKorEazTc"
   },
   "source": [
    "**Unknown Feature Identity:**\n",
    "\n",
    "\n",
    "1.   Polyuria: > exesive urinates (> 3 littres a day) than normal (1-2 littres a day)\n",
    "\n",
    "2.   Polydipsia: excessive thirst and is one of the initial symptoms of diabetes\n",
    "\n",
    "3.   Polyphagia: excessive eating or appetite, especially as a symptom of disease\n",
    "4.   Genital thrush: It mainly affects the vagina, though may affect the penis too, and can be irritating and painful\n",
    "5.   Partial paresis: Unlike paralysis, people with paresis can still move their muscles. These movements are just weaker than normal\n",
    "\n",
    "\n",
    "6.   Alopecia: a condition that causes hair to fall out in small patches, which can be unnoticeable\n",
    "7.   Obesity: a complex disease involving an excessive amount of body fat\n",
    "\n",
    "\n",
    "\n",
    "\n",
    "\n",
    "\n",
    "\n"
   ]
  },
  {
   "cell_type": "code",
   "execution_count": 1,
   "metadata": {
    "id": "KcrdGtxqapRe"
   },
   "outputs": [],
   "source": [
    "import pandas as pd\n",
    "import numpy as np\n",
    "import matplotlib.pyplot as plt\n",
    "import seaborn as sns"
   ]
  },
  {
   "cell_type": "markdown",
   "metadata": {
    "id": "iEN1YBO_WLvF"
   },
   "source": [
    "# Data Exploration"
   ]
  },
  {
   "cell_type": "markdown",
   "metadata": {
    "id": "x_F5dp2NWV-Z"
   },
   "source": [
    "###Load dataset"
   ]
  },
  {
   "cell_type": "code",
   "execution_count": 2,
   "metadata": {
    "id": "NtpwE8GQWbBu"
   },
   "outputs": [],
   "source": [
    "actual_patient_data = pd.read_csv(\"diabetes_data_upload.csv\")"
   ]
  },
  {
   "cell_type": "code",
   "execution_count": 3,
   "metadata": {
    "colab": {
     "base_uri": "https://localhost:8080/",
     "height": 193
    },
    "id": "BCS3UaTMXV6j",
    "outputId": "184bdc1e-c45e-4c7f-ad3c-d0297c3cf3b6"
   },
   "outputs": [
    {
     "data": {
      "text/html": [
       "<div>\n",
       "<style scoped>\n",
       "    .dataframe tbody tr th:only-of-type {\n",
       "        vertical-align: middle;\n",
       "    }\n",
       "\n",
       "    .dataframe tbody tr th {\n",
       "        vertical-align: top;\n",
       "    }\n",
       "\n",
       "    .dataframe thead th {\n",
       "        text-align: right;\n",
       "    }\n",
       "</style>\n",
       "<table border=\"1\" class=\"dataframe\">\n",
       "  <thead>\n",
       "    <tr style=\"text-align: right;\">\n",
       "      <th></th>\n",
       "      <th>Age</th>\n",
       "      <th>Gender</th>\n",
       "      <th>Polyuria</th>\n",
       "      <th>Polydipsia</th>\n",
       "      <th>sudden weight loss</th>\n",
       "      <th>weakness</th>\n",
       "      <th>Polyphagia</th>\n",
       "      <th>Genital thrush</th>\n",
       "      <th>visual blurring</th>\n",
       "      <th>Itching</th>\n",
       "      <th>Irritability</th>\n",
       "      <th>delayed healing</th>\n",
       "      <th>partial paresis</th>\n",
       "      <th>muscle stiffness</th>\n",
       "      <th>Alopecia</th>\n",
       "      <th>Obesity</th>\n",
       "      <th>class</th>\n",
       "    </tr>\n",
       "  </thead>\n",
       "  <tbody>\n",
       "    <tr>\n",
       "      <th>0</th>\n",
       "      <td>40</td>\n",
       "      <td>Male</td>\n",
       "      <td>No</td>\n",
       "      <td>Yes</td>\n",
       "      <td>No</td>\n",
       "      <td>Yes</td>\n",
       "      <td>No</td>\n",
       "      <td>No</td>\n",
       "      <td>No</td>\n",
       "      <td>Yes</td>\n",
       "      <td>No</td>\n",
       "      <td>Yes</td>\n",
       "      <td>No</td>\n",
       "      <td>Yes</td>\n",
       "      <td>Yes</td>\n",
       "      <td>Yes</td>\n",
       "      <td>Positive</td>\n",
       "    </tr>\n",
       "    <tr>\n",
       "      <th>1</th>\n",
       "      <td>58</td>\n",
       "      <td>Male</td>\n",
       "      <td>No</td>\n",
       "      <td>No</td>\n",
       "      <td>No</td>\n",
       "      <td>Yes</td>\n",
       "      <td>No</td>\n",
       "      <td>No</td>\n",
       "      <td>Yes</td>\n",
       "      <td>No</td>\n",
       "      <td>No</td>\n",
       "      <td>No</td>\n",
       "      <td>Yes</td>\n",
       "      <td>No</td>\n",
       "      <td>Yes</td>\n",
       "      <td>No</td>\n",
       "      <td>Positive</td>\n",
       "    </tr>\n",
       "    <tr>\n",
       "      <th>2</th>\n",
       "      <td>41</td>\n",
       "      <td>Male</td>\n",
       "      <td>Yes</td>\n",
       "      <td>No</td>\n",
       "      <td>No</td>\n",
       "      <td>Yes</td>\n",
       "      <td>Yes</td>\n",
       "      <td>No</td>\n",
       "      <td>No</td>\n",
       "      <td>Yes</td>\n",
       "      <td>No</td>\n",
       "      <td>Yes</td>\n",
       "      <td>No</td>\n",
       "      <td>Yes</td>\n",
       "      <td>Yes</td>\n",
       "      <td>No</td>\n",
       "      <td>Positive</td>\n",
       "    </tr>\n",
       "  </tbody>\n",
       "</table>\n",
       "</div>"
      ],
      "text/plain": [
       "   Age Gender Polyuria Polydipsia sudden weight loss weakness Polyphagia  \\\n",
       "0   40   Male       No        Yes                 No      Yes         No   \n",
       "1   58   Male       No         No                 No      Yes         No   \n",
       "2   41   Male      Yes         No                 No      Yes        Yes   \n",
       "\n",
       "  Genital thrush visual blurring Itching Irritability delayed healing  \\\n",
       "0             No              No     Yes           No             Yes   \n",
       "1             No             Yes      No           No              No   \n",
       "2             No              No     Yes           No             Yes   \n",
       "\n",
       "  partial paresis muscle stiffness Alopecia Obesity     class  \n",
       "0              No              Yes      Yes     Yes  Positive  \n",
       "1             Yes               No      Yes      No  Positive  \n",
       "2              No              Yes      Yes      No  Positive  "
      ]
     },
     "execution_count": 3,
     "metadata": {},
     "output_type": "execute_result"
    }
   ],
   "source": [
    "actual_patient_data.head(3)"
   ]
  },
  {
   "cell_type": "code",
   "execution_count": 4,
   "metadata": {
    "colab": {
     "base_uri": "https://localhost:8080/"
    },
    "id": "efHU_JDZXcHs",
    "outputId": "e7d573dc-abab-43e4-d2d6-c5d7430211c8"
   },
   "outputs": [
    {
     "name": "stdout",
     "output_type": "stream",
     "text": [
      "<class 'pandas.core.frame.DataFrame'>\n",
      "RangeIndex: 520 entries, 0 to 519\n",
      "Data columns (total 17 columns):\n",
      " #   Column              Non-Null Count  Dtype \n",
      "---  ------              --------------  ----- \n",
      " 0   Age                 520 non-null    int64 \n",
      " 1   Gender              520 non-null    object\n",
      " 2   Polyuria            520 non-null    object\n",
      " 3   Polydipsia          520 non-null    object\n",
      " 4   sudden weight loss  520 non-null    object\n",
      " 5   weakness            520 non-null    object\n",
      " 6   Polyphagia          520 non-null    object\n",
      " 7   Genital thrush      520 non-null    object\n",
      " 8   visual blurring     520 non-null    object\n",
      " 9   Itching             520 non-null    object\n",
      " 10  Irritability        520 non-null    object\n",
      " 11  delayed healing     520 non-null    object\n",
      " 12  partial paresis     520 non-null    object\n",
      " 13  muscle stiffness    520 non-null    object\n",
      " 14  Alopecia            520 non-null    object\n",
      " 15  Obesity             520 non-null    object\n",
      " 16  class               520 non-null    object\n",
      "dtypes: int64(1), object(16)\n",
      "memory usage: 69.2+ KB\n"
     ]
    }
   ],
   "source": [
    "actual_patient_data.info()"
   ]
  },
  {
   "cell_type": "markdown",
   "metadata": {
    "id": "3OhCRE9PXsq4"
   },
   "source": [
    "**only age is numerical and there are no any missing data** | Class is the target variable which we need to predict.\n",
    "\n"
   ]
  },
  {
   "cell_type": "code",
   "execution_count": 5,
   "metadata": {
    "colab": {
     "base_uri": "https://localhost:8080/",
     "height": 217
    },
    "id": "Jy8elNtFXlUT",
    "outputId": "20d2d755-3837-41d5-f416-f3ef914a3706"
   },
   "outputs": [
    {
     "data": {
      "image/png": "[encoded data removed]",
      "text/plain": [
       "<Figure size 1440x216 with 1 Axes>"
      ]
     },
     "metadata": {
      "needs_background": "light"
     },
     "output_type": "display_data"
    }
   ],
   "source": [
    "plt.figure(figsize=(20,3))\n",
    "sns.countplot(x=actual_patient_data['Age']);"
   ]
  },
  {
   "cell_type": "code",
   "execution_count": 6,
   "metadata": {
    "colab": {
     "base_uri": "https://localhost:8080/",
     "height": 35
    },
    "id": "YXfVV5viYgLT",
    "outputId": "c0e877e5-b273-4eb7-a344-c57a62425113"
   },
   "outputs": [
    {
     "data": {
      "text/plain": [
       "48.02884615384615"
      ]
     },
     "execution_count": 6,
     "metadata": {},
     "output_type": "execute_result"
    }
   ],
   "source": [
    "actual_patient_data['Age'].mean()"
   ]
  },
  {
   "cell_type": "markdown",
   "metadata": {
    "id": "JBcYa4aoZubh"
   },
   "source": [
    "From the above figure found out that, most of the people are in the midde age between (30-50)"
   ]
  },
  {
   "cell_type": "code",
   "execution_count": 7,
   "metadata": {
    "colab": {
     "base_uri": "https://localhost:8080/"
    },
    "id": "Pkn2Zh2OZm7Z",
    "outputId": "24fe7e24-dc73-4e5a-81dc-e18724459261"
   },
   "outputs": [
    {
     "data": {
      "text/plain": [
       "320"
      ]
     },
     "execution_count": 7,
     "metadata": {},
     "output_type": "execute_result"
    }
   ],
   "source": [
    "len(actual_patient_data[actual_patient_data[\"class\"]==\"Positive\"])"
   ]
  },
  {
   "cell_type": "code",
   "execution_count": 8,
   "metadata": {
    "colab": {
     "base_uri": "https://localhost:8080/"
    },
    "id": "x-NK75ozaVIc",
    "outputId": "be90438f-ae4c-4816-aa16-116213d70508"
   },
   "outputs": [
    {
     "data": {
      "text/plain": [
       "200"
      ]
     },
     "execution_count": 8,
     "metadata": {},
     "output_type": "execute_result"
    }
   ],
   "source": [
    "len(actual_patient_data[actual_patient_data[\"class\"]==\"Negative\"])"
   ]
  },
  {
   "cell_type": "markdown",
   "metadata": {
    "id": "FnY9XZKubPLe"
   },
   "source": [
    "You can see there is a difference between positive and Negative patient count. Positive is 320 and Negative is 200\n"
   ]
  },
  {
   "cell_type": "code",
   "execution_count": 9,
   "metadata": {
    "colab": {
     "base_uri": "https://localhost:8080/"
    },
    "id": "oUKeqkCgbEMz",
    "outputId": "2295fb4e-0c51-49d9-f0d4-9846e765c638"
   },
   "outputs": [
    {
     "data": {
      "text/plain": [
       "49.071875"
      ]
     },
     "execution_count": 9,
     "metadata": {},
     "output_type": "execute_result"
    }
   ],
   "source": [
    "actual_patient_data[actual_patient_data[\"class\"]==\"Positive\"][\"Age\"].mean()"
   ]
  },
  {
   "cell_type": "code",
   "execution_count": 10,
   "metadata": {
    "colab": {
     "base_uri": "https://localhost:8080/"
    },
    "id": "ickHhkUqbrB8",
    "outputId": "05403e4a-8f4a-46e5-dbc9-b6322e228241"
   },
   "outputs": [
    {
     "data": {
      "text/plain": [
       "46.36"
      ]
     },
     "execution_count": 10,
     "metadata": {},
     "output_type": "execute_result"
    }
   ],
   "source": [
    "actual_patient_data[actual_patient_data[\"class\"]==\"Negative\"][\"Age\"].mean()"
   ]
  },
  {
   "cell_type": "code",
   "execution_count": 11,
   "metadata": {
    "colab": {
     "base_uri": "https://localhost:8080/",
     "height": 217
    },
    "id": "LV8louNBbx-Z",
    "outputId": "f1aaa617-2646-4187-f6c7-6bba8a87ae29"
   },
   "outputs": [
    {
     "data": {
      "image/png": "[encoded data removed]",
      "text/plain": [
       "<Figure size 1440x216 with 1 Axes>"
      ]
     },
     "metadata": {
      "needs_background": "light"
     },
     "output_type": "display_data"
    }
   ],
   "source": [
    "plt.figure(figsize=(20,3))\n",
    "sns.countplot(x=actual_patient_data[actual_patient_data[\"class\"]==\"Positive\"]['Age']);"
   ]
  },
  {
   "cell_type": "code",
   "execution_count": 12,
   "metadata": {
    "colab": {
     "base_uri": "https://localhost:8080/",
     "height": 215
    },
    "id": "B-NN2OBMcEXK",
    "outputId": "0aececbc-f771-43ff-ce43-3f0144e92cda"
   },
   "outputs": [
    {
     "data": {
      "image/png": "[encoded data removed]",
      "text/plain": [
       "<Figure size 1440x216 with 1 Axes>"
      ]
     },
     "metadata": {
      "needs_background": "light"
     },
     "output_type": "display_data"
    }
   ],
   "source": [
    "plt.figure(figsize=(20,3))\n",
    "sns.countplot(x=actual_patient_data[actual_patient_data[\"class\"]==\"Negative\"]['Age']);"
   ]
  },
  {
   "cell_type": "markdown",
   "metadata": {
    "id": "OiZrAj1AdHwI"
   },
   "source": [
    "Although Positive and Negative have different number of counts, their age distribution is almost similar\n"
   ]
  },
  {
   "cell_type": "markdown",
   "metadata": {
    "id": "7wDlSRBSdnSF"
   },
   "source": [
    "All other features are categorica data. so need to convert them in numerical data. After conversion, we will match up the Positive and Negative data counts and will apply different algorithms to find out best algo for the prediction"
   ]
  },
  {
   "cell_type": "markdown",
   "metadata": {
    "id": "b0fQ7CojzLtU"
   },
   "source": [
    "# Converting the data to numerical ones"
   ]
  },
  {
   "cell_type": "code",
   "execution_count": 13,
   "metadata": {
    "id": "CKhkzkhRegRu"
   },
   "outputs": [],
   "source": [
    "converted_data=pd.get_dummies(actual_patient_data, prefix=['Gender', 'Polyuria', 'Polydipsia', 'sudden weight loss',\n",
    "       'weakness', 'Polyphagia', 'Genital thrush', 'visual blurring',\n",
    "       'Itching', 'Irritability', 'delayed healing', 'partial paresis',\n",
    "       'muscle stiffness', 'Alopecia', 'Obesity', 'class'], drop_first=True)"
   ]
  },
  {
   "cell_type": "code",
   "execution_count": 14,
   "metadata": {
    "colab": {
     "base_uri": "https://localhost:8080/",
     "height": 163
    },
    "id": "BwF3YMD1zsRR",
    "outputId": "f91d507e-2b73-4215-ea55-cf05fb600ef5"
   },
   "outputs": [
    {
     "data": {
      "text/html": [
       "<div>\n",
       "<style scoped>\n",
       "    .dataframe tbody tr th:only-of-type {\n",
       "        vertical-align: middle;\n",
       "    }\n",
       "\n",
       "    .dataframe tbody tr th {\n",
       "        vertical-align: top;\n",
       "    }\n",
       "\n",
       "    .dataframe thead th {\n",
       "        text-align: right;\n",
       "    }\n",
       "</style>\n",
       "<table border=\"1\" class=\"dataframe\">\n",
       "  <thead>\n",
       "    <tr style=\"text-align: right;\">\n",
       "      <th></th>\n",
       "      <th>Age</th>\n",
       "      <th>Gender_Male</th>\n",
       "      <th>Polyuria_Yes</th>\n",
       "      <th>Polydipsia_Yes</th>\n",
       "      <th>sudden weight loss_Yes</th>\n",
       "      <th>weakness_Yes</th>\n",
       "      <th>Polyphagia_Yes</th>\n",
       "      <th>Genital thrush_Yes</th>\n",
       "      <th>visual blurring_Yes</th>\n",
       "      <th>Itching_Yes</th>\n",
       "      <th>Irritability_Yes</th>\n",
       "      <th>delayed healing_Yes</th>\n",
       "      <th>partial paresis_Yes</th>\n",
       "      <th>muscle stiffness_Yes</th>\n",
       "      <th>Alopecia_Yes</th>\n",
       "      <th>Obesity_Yes</th>\n",
       "      <th>class_Positive</th>\n",
       "    </tr>\n",
       "  </thead>\n",
       "  <tbody>\n",
       "    <tr>\n",
       "      <th>0</th>\n",
       "      <td>40</td>\n",
       "      <td>1</td>\n",
       "      <td>0</td>\n",
       "      <td>1</td>\n",
       "      <td>0</td>\n",
       "      <td>1</td>\n",
       "      <td>0</td>\n",
       "      <td>0</td>\n",
       "      <td>0</td>\n",
       "      <td>1</td>\n",
       "      <td>0</td>\n",
       "      <td>1</td>\n",
       "      <td>0</td>\n",
       "      <td>1</td>\n",
       "      <td>1</td>\n",
       "      <td>1</td>\n",
       "      <td>1</td>\n",
       "    </tr>\n",
       "    <tr>\n",
       "      <th>1</th>\n",
       "      <td>58</td>\n",
       "      <td>1</td>\n",
       "      <td>0</td>\n",
       "      <td>0</td>\n",
       "      <td>0</td>\n",
       "      <td>1</td>\n",
       "      <td>0</td>\n",
       "      <td>0</td>\n",
       "      <td>1</td>\n",
       "      <td>0</td>\n",
       "      <td>0</td>\n",
       "      <td>0</td>\n",
       "      <td>1</td>\n",
       "      <td>0</td>\n",
       "      <td>1</td>\n",
       "      <td>0</td>\n",
       "      <td>1</td>\n",
       "    </tr>\n",
       "  </tbody>\n",
       "</table>\n",
       "</div>"
      ],
      "text/plain": [
       "   Age  Gender_Male  Polyuria_Yes  Polydipsia_Yes  sudden weight loss_Yes  \\\n",
       "0   40            1             0               1                       0   \n",
       "1   58            1             0               0                       0   \n",
       "\n",
       "   weakness_Yes  Polyphagia_Yes  Genital thrush_Yes  visual blurring_Yes  \\\n",
       "0             1               0                   0                    0   \n",
       "1             1               0                   0                    1   \n",
       "\n",
       "   Itching_Yes  Irritability_Yes  delayed healing_Yes  partial paresis_Yes  \\\n",
       "0            1                 0                    1                    0   \n",
       "1            0                 0                    0                    1   \n",
       "\n",
       "   muscle stiffness_Yes  Alopecia_Yes  Obesity_Yes  class_Positive  \n",
       "0                     1             1            1               1  \n",
       "1                     0             1            0               1  "
      ]
     },
     "execution_count": 14,
     "metadata": {},
     "output_type": "execute_result"
    }
   ],
   "source": [
    "converted_data.head(2)"
   ]
  },
  {
   "cell_type": "markdown",
   "metadata": {
    "id": "eJ4Te8L42-Zy"
   },
   "source": [
    "Collinearity check"
   ]
  },
  {
   "cell_type": "code",
   "execution_count": 15,
   "metadata": {
    "colab": {
     "base_uri": "https://localhost:8080/",
     "height": 336
    },
    "id": "RaMGeeUF3gC1",
    "outputId": "49e00b9c-bd39-406e-87cb-af9cb71e2908"
   },
   "outputs": [
    {
     "data": {
      "text/plain": [
       "<AxesSubplot:>"
      ]
     },
     "execution_count": 15,
     "metadata": {},
     "output_type": "execute_result"
    },
    {
     "data": {
      "image/png": "[encoded data removed]",
      "text/plain": [
       "<Figure size 864x216 with 1 Axes>"
      ]
     },
     "metadata": {
      "needs_background": "light"
     },
     "output_type": "display_data"
    }
   ],
   "source": [
    "plt.figure(figsize=(12,3))\n",
    "converted_data.corr()['class_Positive'][:-1].plot(kind='bar')"
   ]
  },
  {
   "cell_type": "markdown",
   "metadata": {
    "id": "vMgmGHQW6NKT"
   },
   "source": [
    "from the above analysis we coud say Polyuria, Pydipsia could be the main symptons of diabities.\n",
    "As features don't have much correations to each other. we can take all the features for analysis of diabities detection"
   ]
  },
  {
   "cell_type": "code",
   "execution_count": 16,
   "metadata": {
    "id": "oYMuIQPY3-k7"
   },
   "outputs": [],
   "source": [
    "from sklearn.model_selection import train_test_split\n",
    "X_train, X_test, y_train, y_test = train_test_split(converted_data.drop('class_Positive', axis=1),converted_data['class_Positive'], test_size=0.3, random_state=0)"
   ]
  },
  {
   "cell_type": "code",
   "execution_count": 17,
   "metadata": {
    "id": "pWdQDcrm7Vvc"
   },
   "outputs": [],
   "source": [
    "from sklearn.preprocessing import StandardScaler\n",
    "sc=StandardScaler()\n",
    "X_train = sc.fit_transform(X_train)\n",
    "X_test = sc.transform(X_test)"
   ]
  },
  {
   "cell_type": "markdown",
   "metadata": {
    "id": "W1zzCkaVBVKM"
   },
   "source": [
    "# Logistic regression"
   ]
  },
  {
   "cell_type": "code",
   "execution_count": 18,
   "metadata": {
    "colab": {
     "base_uri": "https://localhost:8080/"
    },
    "id": "U44B3EF78MwM",
    "outputId": "f18bb19f-6ea0-4fd9-9934-4146ada40408"
   },
   "outputs": [
    {
     "data": {
      "text/plain": [
       "LogisticRegression(random_state=0)"
      ]
     },
     "execution_count": 18,
     "metadata": {},
     "output_type": "execute_result"
    }
   ],
   "source": [
    "from sklearn.linear_model import LogisticRegression\n",
    "classifier = LogisticRegression(random_state = 0)\n",
    "classifier.fit(X_train, y_train)"
   ]
  },
  {
   "cell_type": "code",
   "execution_count": 19,
   "metadata": {
    "id": "jceyFEP9ASxm"
   },
   "outputs": [],
   "source": [
    "y_pred = classifier.predict(X_test)"
   ]
  },
  {
   "cell_type": "code",
   "execution_count": 20,
   "metadata": {
    "colab": {
     "base_uri": "https://localhost:8080/"
    },
    "id": "-iLGh4CmAfq9",
    "outputId": "ade74db7-dcb1-4a92-defd-12c480e66e55"
   },
   "outputs": [
    {
     "name": "stdout",
     "output_type": "stream",
     "text": [
      "[[56  6]\n",
      " [ 5 89]]\n"
     ]
    },
    {
     "data": {
      "text/plain": [
       "0.9294871794871795"
      ]
     },
     "execution_count": 20,
     "metadata": {},
     "output_type": "execute_result"
    }
   ],
   "source": [
    "from sklearn.metrics import confusion_matrix, accuracy_score\n",
    "cm = confusion_matrix(y_test, y_pred)\n",
    "print(cm)\n",
    "accuracy_score(y_test, y_pred)"
   ]
  },
  {
   "cell_type": "code",
   "execution_count": 21,
   "metadata": {
    "colab": {
     "base_uri": "https://localhost:8080/"
    },
    "id": "mbLSToIcAtpy",
    "outputId": "50c07eb1-05be-4199-c97f-e5b4d0b71d4d"
   },
   "outputs": [
    {
     "name": "stdout",
     "output_type": "stream",
     "text": [
      "Accuracy: 92.30 %\n",
      "Standard Deviation: 3.68 %\n"
     ]
    }
   ],
   "source": [
    "from sklearn.model_selection import cross_val_score\n",
    "accuracies = cross_val_score(estimator = classifier, X = X_train, y = y_train, cv = 10)\n",
    "print(\"Accuracy: {:.2f} %\".format(accuracies.mean()*100))\n",
    "print(\"Standard Deviation: {:.2f} %\".format(accuracies.std()*100))"
   ]
  },
  {
   "cell_type": "markdown",
   "metadata": {
    "id": "kUoQPaabBdIW"
   },
   "source": [
    "# KNearest Neabour"
   ]
  },
  {
   "cell_type": "code",
   "execution_count": 22,
   "metadata": {
    "colab": {
     "base_uri": "https://localhost:8080/"
    },
    "id": "uuWg4xYmBNoj",
    "outputId": "b5cfdd81-e654-4e97-cdd3-0c47a4aa40da"
   },
   "outputs": [
    {
     "data": {
      "text/plain": [
       "KNeighborsClassifier()"
      ]
     },
     "execution_count": 22,
     "metadata": {},
     "output_type": "execute_result"
    }
   ],
   "source": [
    "from sklearn.neighbors import KNeighborsClassifier\n",
    "classifier = KNeighborsClassifier(n_neighbors = 5, metric = 'minkowski', p = 2)\n",
    "classifier.fit(X_train, y_train)"
   ]
  },
  {
   "cell_type": "code",
   "execution_count": 23,
   "metadata": {
    "id": "DHdjG6LxB6DD"
   },
   "outputs": [],
   "source": [
    "y_pred = classifier.predict(X_test)"
   ]
  },
  {
   "cell_type": "code",
   "execution_count": 24,
   "metadata": {
    "colab": {
     "base_uri": "https://localhost:8080/"
    },
    "id": "Q1kducExCAZN",
    "outputId": "8403a632-a973-4918-f607-ed05951ad608"
   },
   "outputs": [
    {
     "name": "stdout",
     "output_type": "stream",
     "text": [
      "[[58  4]\n",
      " [ 9 85]]\n"
     ]
    },
    {
     "data": {
      "text/plain": [
       "0.9166666666666666"
      ]
     },
     "execution_count": 24,
     "metadata": {},
     "output_type": "execute_result"
    }
   ],
   "source": [
    "cm = confusion_matrix(y_test, y_pred)\n",
    "print(cm)\n",
    "accuracy_score(y_test, y_pred)"
   ]
  },
  {
   "cell_type": "code",
   "execution_count": 25,
   "metadata": {
    "colab": {
     "base_uri": "https://localhost:8080/"
    },
    "id": "11ziUH_JCHKg",
    "outputId": "b3939e2d-18cb-49da-cc72-84a4aa4c7a0d"
   },
   "outputs": [
    {
     "name": "stdout",
     "output_type": "stream",
     "text": [
      "Accuracy: 90.92 %\n",
      "Standard Deviation: 3.52 %\n"
     ]
    }
   ],
   "source": [
    "accuracies = cross_val_score(estimator = classifier, X = X_train, y = y_train, cv = 10)\n",
    "print(\"Accuracy: {:.2f} %\".format(accuracies.mean()*100))\n",
    "print(\"Standard Deviation: {:.2f} %\".format(accuracies.std()*100))"
   ]
  },
  {
   "cell_type": "markdown",
   "metadata": {
    "id": "hABX0KShClo2"
   },
   "source": [
    "# Support Vector Linear classifier"
   ]
  },
  {
   "cell_type": "code",
   "execution_count": 26,
   "metadata": {
    "colab": {
     "base_uri": "https://localhost:8080/"
    },
    "id": "X-q53T-5CN9W",
    "outputId": "f0825f16-9c74-4b42-a901-976bed40b8d4"
   },
   "outputs": [
    {
     "data": {
      "text/plain": [
       "SVC(kernel='linear', random_state=0)"
      ]
     },
     "execution_count": 26,
     "metadata": {},
     "output_type": "execute_result"
    }
   ],
   "source": [
    "from sklearn.svm import SVC\n",
    "classifier = SVC(kernel = 'linear', random_state = 0)\n",
    "classifier.fit(X_train, y_train)"
   ]
  },
  {
   "cell_type": "code",
   "execution_count": 27,
   "metadata": {
    "id": "ZmA1rDWCCj_1"
   },
   "outputs": [],
   "source": [
    "y_pred = classifier.predict(X_test)"
   ]
  },
  {
   "cell_type": "code",
   "execution_count": 28,
   "metadata": {
    "colab": {
     "base_uri": "https://localhost:8080/"
    },
    "id": "oFNxOP1HCvz1",
    "outputId": "507a651c-43f6-4a17-dc32-0e7fe1a67c8d"
   },
   "outputs": [
    {
     "name": "stdout",
     "output_type": "stream",
     "text": [
      "[[54  8]\n",
      " [ 5 89]]\n"
     ]
    },
    {
     "data": {
      "text/plain": [
       "0.9166666666666666"
      ]
     },
     "execution_count": 28,
     "metadata": {},
     "output_type": "execute_result"
    }
   ],
   "source": [
    "cm = confusion_matrix(y_test, y_pred)\n",
    "print(cm)\n",
    "accuracy_score(y_test, y_pred)"
   ]
  },
  {
   "cell_type": "code",
   "execution_count": 29,
   "metadata": {
    "colab": {
     "base_uri": "https://localhost:8080/"
    },
    "id": "_MWvZFNVCylN",
    "outputId": "afaf8954-1f42-4929-aafb-e7f07736b4e7"
   },
   "outputs": [
    {
     "name": "stdout",
     "output_type": "stream",
     "text": [
      "Accuracy: 90.39 %\n",
      "Standard Deviation: 3.72 %\n"
     ]
    }
   ],
   "source": [
    "accuracies = cross_val_score(estimator = classifier, X = X_train, y = y_train, cv = 10)\n",
    "print(\"Accuracy: {:.2f} %\".format(accuracies.mean()*100))\n",
    "print(\"Standard Deviation: {:.2f} %\".format(accuracies.std()*100))"
   ]
  },
  {
   "cell_type": "markdown",
   "metadata": {
    "id": "NLOn4CvPDPDj"
   },
   "source": [
    "# Support Vector Kernel SVF"
   ]
  },
  {
   "cell_type": "code",
   "execution_count": 30,
   "metadata": {
    "colab": {
     "base_uri": "https://localhost:8080/"
    },
    "id": "eqUGc3P2C4c8",
    "outputId": "dcfacb00-da9a-4961-c23b-8f1a271f70e7"
   },
   "outputs": [
    {
     "data": {
      "text/plain": [
       "SVC(random_state=0)"
      ]
     },
     "execution_count": 30,
     "metadata": {},
     "output_type": "execute_result"
    }
   ],
   "source": [
    "from sklearn.svm import SVC\n",
    "classifier = SVC(kernel = 'rbf', random_state = 0)\n",
    "classifier.fit(X_train, y_train)"
   ]
  },
  {
   "cell_type": "code",
   "execution_count": 31,
   "metadata": {
    "id": "J3-iwAyMDVA3"
   },
   "outputs": [],
   "source": [
    "y_pred = classifier.predict(X_test)"
   ]
  },
  {
   "cell_type": "code",
   "execution_count": 32,
   "metadata": {
    "colab": {
     "base_uri": "https://localhost:8080/"
    },
    "id": "vSMjVVsYDYEq",
    "outputId": "fb4f1732-0945-4ef2-a96b-5eabd60e50cd"
   },
   "outputs": [
    {
     "name": "stdout",
     "output_type": "stream",
     "text": [
      "[[59  3]\n",
      " [ 3 91]]\n"
     ]
    },
    {
     "data": {
      "text/plain": [
       "0.9615384615384616"
      ]
     },
     "execution_count": 32,
     "metadata": {},
     "output_type": "execute_result"
    }
   ],
   "source": [
    "cm = confusion_matrix(y_test, y_pred)\n",
    "print(cm)\n",
    "accuracy_score(y_test, y_pred)"
   ]
  },
  {
   "cell_type": "code",
   "execution_count": 33,
   "metadata": {
    "colab": {
     "base_uri": "https://localhost:8080/"
    },
    "id": "hKksRTo4DaQR",
    "outputId": "5a4ec521-997e-4fbb-a2ae-78b1424e98b1"
   },
   "outputs": [
    {
     "name": "stdout",
     "output_type": "stream",
     "text": [
      "Accuracy: 95.86 %\n",
      "Standard Deviation: 4.69 %\n"
     ]
    }
   ],
   "source": [
    "accuracies = cross_val_score(estimator = classifier, X = X_train, y = y_train, cv = 10)\n",
    "print(\"Accuracy: {:.2f} %\".format(accuracies.mean()*100))\n",
    "print(\"Standard Deviation: {:.2f} %\".format(accuracies.std()*100))"
   ]
  },
  {
   "cell_type": "markdown",
   "metadata": {
    "id": "LXB2rYtMD2-v"
   },
   "source": [
    "# Naive Bayes"
   ]
  },
  {
   "cell_type": "code",
   "execution_count": 34,
   "metadata": {
    "colab": {
     "base_uri": "https://localhost:8080/"
    },
    "id": "d5y29APqDg8W",
    "outputId": "f7b676b9-7486-4f0c-c3ff-ec496085d705"
   },
   "outputs": [
    {
     "data": {
      "text/plain": [
       "GaussianNB()"
      ]
     },
     "execution_count": 34,
     "metadata": {},
     "output_type": "execute_result"
    }
   ],
   "source": [
    "from sklearn.naive_bayes import GaussianNB\n",
    "classifier = GaussianNB()\n",
    "classifier.fit(X_train, y_train)"
   ]
  },
  {
   "cell_type": "code",
   "execution_count": 35,
   "metadata": {
    "id": "K2cJka_jD9Pt"
   },
   "outputs": [],
   "source": [
    "y_pred = classifier.predict(X_test)"
   ]
  },
  {
   "cell_type": "code",
   "execution_count": 36,
   "metadata": {
    "colab": {
     "base_uri": "https://localhost:8080/"
    },
    "id": "0CgwcQDwEBWf",
    "outputId": "eafa1f17-476b-45e9-ebf9-1bf3ff7cd719"
   },
   "outputs": [
    {
     "name": "stdout",
     "output_type": "stream",
     "text": [
      "[[50 12]\n",
      " [ 5 89]]\n"
     ]
    },
    {
     "data": {
      "text/plain": [
       "0.8910256410256411"
      ]
     },
     "execution_count": 36,
     "metadata": {},
     "output_type": "execute_result"
    }
   ],
   "source": [
    "cm = confusion_matrix(y_test, y_pred)\n",
    "print(cm)\n",
    "accuracy_score(y_test, y_pred)"
   ]
  },
  {
   "cell_type": "code",
   "execution_count": 37,
   "metadata": {
    "colab": {
     "base_uri": "https://localhost:8080/"
    },
    "id": "3rCpwtjUEEBV",
    "outputId": "09897553-11b5-4c62-de21-131438962975"
   },
   "outputs": [
    {
     "name": "stdout",
     "output_type": "stream",
     "text": [
      "Accuracy: 88.21 %\n",
      "Standard Deviation: 5.33 %\n"
     ]
    }
   ],
   "source": [
    "accuracies = cross_val_score(estimator = classifier, X = X_train, y = y_train, cv = 10)\n",
    "print(\"Accuracy: {:.2f} %\".format(accuracies.mean()*100))\n",
    "print(\"Standard Deviation: {:.2f} %\".format(accuracies.std()*100))"
   ]
  },
  {
   "cell_type": "markdown",
   "metadata": {
    "id": "YH2sS0yGELxL"
   },
   "source": [
    "# Decision Tree"
   ]
  },
  {
   "cell_type": "code",
   "execution_count": 38,
   "metadata": {
    "colab": {
     "base_uri": "https://localhost:8080/"
    },
    "id": "Ftcvf5dZEHPe",
    "outputId": "cbc9087c-70a1-4714-aaea-3dc2905cbc0f"
   },
   "outputs": [
    {
     "data": {
      "text/plain": [
       "DecisionTreeClassifier(criterion='entropy', random_state=0)"
      ]
     },
     "execution_count": 38,
     "metadata": {},
     "output_type": "execute_result"
    }
   ],
   "source": [
    "from sklearn.tree import DecisionTreeClassifier\n",
    "classifier = DecisionTreeClassifier(criterion = 'entropy', random_state = 0)\n",
    "classifier.fit(X_train, y_train)"
   ]
  },
  {
   "cell_type": "code",
   "execution_count": 39,
   "metadata": {
    "id": "uw24RhVeEmTq"
   },
   "outputs": [],
   "source": [
    "y_pred = classifier.predict(X_test)"
   ]
  },
  {
   "cell_type": "code",
   "execution_count": 40,
   "metadata": {
    "colab": {
     "base_uri": "https://localhost:8080/"
    },
    "id": "wmmsz4ybEqab",
    "outputId": "d5bd8257-fa39-46e6-b430-09ff3e28efcb"
   },
   "outputs": [
    {
     "name": "stdout",
     "output_type": "stream",
     "text": [
      "[[61  1]\n",
      " [ 3 91]]\n"
     ]
    },
    {
     "data": {
      "text/plain": [
       "0.9743589743589743"
      ]
     },
     "execution_count": 40,
     "metadata": {},
     "output_type": "execute_result"
    }
   ],
   "source": [
    "cm = confusion_matrix(y_test, y_pred)\n",
    "print(cm)\n",
    "accuracy_score(y_test, y_pred)"
   ]
  },
  {
   "cell_type": "code",
   "execution_count": 41,
   "metadata": {
    "colab": {
     "base_uri": "https://localhost:8080/"
    },
    "id": "MPlzcszfEtPV",
    "outputId": "b9dc4301-ad6d-4b5f-d267-7b711508b5a1"
   },
   "outputs": [
    {
     "name": "stdout",
     "output_type": "stream",
     "text": [
      "Accuracy: 96.16 %\n",
      "Standard Deviation: 2.21 %\n"
     ]
    }
   ],
   "source": [
    "accuracies = cross_val_score(estimator = classifier, X = X_train, y = y_train, cv = 10)\n",
    "print(\"Accuracy: {:.2f} %\".format(accuracies.mean()*100))\n",
    "print(\"Standard Deviation: {:.2f} %\".format(accuracies.std()*100))"
   ]
  },
  {
   "cell_type": "markdown",
   "metadata": {
    "id": "gXyLNwRWE27j"
   },
   "source": [
    "# Random Forest"
   ]
  },
  {
   "cell_type": "code",
   "execution_count": 42,
   "metadata": {
    "colab": {
     "base_uri": "https://localhost:8080/"
    },
    "id": "WQPKLz9xEwFT",
    "outputId": "660baf2e-31b2-4d3c-99c6-b2e23b816d66"
   },
   "outputs": [
    {
     "data": {
      "text/plain": [
       "RandomForestClassifier(criterion='entropy', n_estimators=10, random_state=0)"
      ]
     },
     "execution_count": 42,
     "metadata": {},
     "output_type": "execute_result"
    }
   ],
   "source": [
    "from sklearn.ensemble import RandomForestClassifier\n",
    "RF_classifier = RandomForestClassifier(n_estimators = 10, criterion = 'entropy', random_state = 0)\n",
    "RF_classifier.fit(X_train, y_train)"
   ]
  },
  {
   "cell_type": "code",
   "execution_count": 43,
   "metadata": {
    "id": "RSpk5oULFHtl"
   },
   "outputs": [],
   "source": [
    "y_pred = RF_classifier.predict(X_test)"
   ]
  },
  {
   "cell_type": "code",
   "execution_count": 44,
   "metadata": {
    "colab": {
     "base_uri": "https://localhost:8080/"
    },
    "id": "H-Zw5acDFQZI",
    "outputId": "ed1b8438-86ec-4bdd-ba1e-d3c3134e9247"
   },
   "outputs": [
    {
     "name": "stdout",
     "output_type": "stream",
     "text": [
      "[[61  1]\n",
      " [ 2 92]]\n"
     ]
    },
    {
     "data": {
      "text/plain": [
       "0.9807692307692307"
      ]
     },
     "execution_count": 44,
     "metadata": {},
     "output_type": "execute_result"
    }
   ],
   "source": [
    "cm = confusion_matrix(y_test, y_pred)\n",
    "print(cm)\n",
    "accuracy_score(y_test, y_pred)"
   ]
  },
  {
   "cell_type": "code",
   "execution_count": 45,
   "metadata": {
    "colab": {
     "base_uri": "https://localhost:8080/"
    },
    "id": "xmQHOixoFMUh",
    "outputId": "a9c028ba-09f2-419b-d290-3a483ace166e"
   },
   "outputs": [
    {
     "name": "stdout",
     "output_type": "stream",
     "text": [
      "Accuracy: 97.55 %\n",
      "Standard Deviation: 2.55 %\n"
     ]
    }
   ],
   "source": [
    "accuracies = cross_val_score(estimator = RF_classifier, X = X_train, y = y_train, cv = 10)\n",
    "print(\"Accuracy: {:.2f} %\".format(accuracies.mean()*100))\n",
    "print(\"Standard Deviation: {:.2f} %\".format(accuracies.std()*100))"
   ]
  },
  {
   "cell_type": "code",
   "execution_count": 46,
   "metadata": {
    "colab": {
     "base_uri": "https://localhost:8080/",
     "height": 201
    },
    "id": "S1pWkko5BIRS",
    "outputId": "d5295ff2-ad80-4165-fb8f-781758c77858"
   },
   "outputs": [
    {
     "name": "stdout",
     "output_type": "stream",
     "text": [
      "Requirement already satisfied: pickle-mixin in c:\\users\\karthik\\anaconda3\\lib\\site-packages (1.0.2)\n"
     ]
    }
   ],
   "source": [
    "!pip install pickle-mixin"
   ]
  },
  {
   "cell_type": "code",
   "execution_count": 47,
   "metadata": {
    "id": "8W0V8OA7BsVm"
   },
   "outputs": [],
   "source": [
    "import joblib\n",
    "\n",
    "diabetic_predictor = joblib.load(\"diabetic_predictor\")\n",
    "scaled_data = joblib.load(\"Standard Scalar\")"
   ]
  },
  {
   "cell_type": "markdown",
   "metadata": {
    "id": "cxU2yrAuFj12"
   },
   "source": [
    "From the above resuts we can say that random forest perform best with 97% accuracy\n",
    "Just to cross check if we could get better results with Catboost "
   ]
  },
  {
   "cell_type": "markdown",
   "metadata": {
    "id": "0225QCMpfMij"
   },
   "source": [
    "# XG boost"
   ]
  },
  {
   "cell_type": "code",
   "execution_count": 48,
   "metadata": {
    "colab": {
     "base_uri": "https://localhost:8080/"
    },
    "id": "2MbLHtd6GyDF",
    "outputId": "fa462a04-d9e4-48db-aeb2-736c852ee167"
   },
   "outputs": [
    {
     "name": "stdout",
     "output_type": "stream",
     "text": [
      "Collecting xgboost\n",
      "  Downloading xgboost-1.5.0-py3-none-win_amd64.whl (106.6 MB)\n",
      "Requirement already satisfied: scipy in c:\\users\\karthik\\anaconda3\\lib\\site-packages (from xgboost) (1.6.2)\n",
      "Requirement already satisfied: numpy in c:\\users\\karthik\\anaconda3\\lib\\site-packages (from xgboost) (1.20.1)\n",
      "Installing collected packages: xgboost\n",
      "Successfully installed xgboost-1.5.0\n"
     ]
    }
   ],
   "source": [
    "!pip install xgboost"
   ]
  },
  {
   "cell_type": "code",
   "execution_count": 49,
   "metadata": {
    "id": "tVLBZozMgx6Y"
   },
   "outputs": [],
   "source": [
    "import xgboost as xgb"
   ]
  },
  {
   "cell_type": "code",
   "execution_count": 50,
   "metadata": {
    "id": "mDkJxMYPfka6"
   },
   "outputs": [],
   "source": [
    "D_train = xgb.DMatrix(X_train, label=y_train)\n",
    "D_test = xgb.DMatrix(X_test, label=y_test)"
   ]
  },
  {
   "cell_type": "code",
   "execution_count": 51,
   "metadata": {
    "id": "qMDHwvw6fZ4n"
   },
   "outputs": [],
   "source": [
    "param = {\n",
    "    'eta': 0.3, \n",
    "    'max_depth': 3,  \n",
    "    'objective': 'multi:softprob',  \n",
    "    'num_class': 3} \n",
    "\n",
    "steps = 20  # The number of training iterations"
   ]
  },
  {
   "cell_type": "code",
   "execution_count": 52,
   "metadata": {
    "id": "GmgGByrphOjz"
   },
   "outputs": [
    {
     "name": "stdout",
     "output_type": "stream",
     "text": [
      "[16:00:00] WARNING: C:/Users/Administrator/workspace/xgboost-win64_release_1.5.0/src/learner.cc:1115: Starting in XGBoost 1.3.0, the default evaluation metric used with the objective 'multi:softprob' was changed from 'merror' to 'mlogloss'. Explicitly set eval_metric if you'd like to restore the old behavior.\n"
     ]
    }
   ],
   "source": [
    "model = xgb.train(param, D_train, steps)"
   ]
  },
  {
   "cell_type": "code",
   "execution_count": 53,
   "metadata": {
    "colab": {
     "base_uri": "https://localhost:8080/"
    },
    "id": "QMBV3L3ahURx",
    "outputId": "dcf9f541-ae8e-47a6-daf3-cd165b8015dc"
   },
   "outputs": [
    {
     "name": "stdout",
     "output_type": "stream",
     "text": [
      "Precision = 0.9521249359959038\n",
      "Recall = 0.9545298558682225\n",
      "Accuracy = 0.9551282051282052\n"
     ]
    }
   ],
   "source": [
    "import numpy as np\n",
    "from sklearn.metrics import precision_score, recall_score, accuracy_score\n",
    "\n",
    "preds = model.predict(D_test)\n",
    "best_preds = np.asarray([np.argmax(line) for line in preds])\n",
    "\n",
    "print(\"Precision = {}\".format(precision_score(y_test, best_preds, average='macro')))\n",
    "print(\"Recall = {}\".format(recall_score(y_test, best_preds, average='macro')))\n",
    "print(\"Accuracy = {}\".format(accuracy_score(y_test, best_preds)))"
   ]
  },
  {
   "cell_type": "markdown",
   "metadata": {
    "id": "2fs-Dj85iALN"
   },
   "source": [
    "# Catboost"
   ]
  },
  {
   "cell_type": "code",
   "execution_count": 54,
   "metadata": {
    "colab": {
     "base_uri": "https://localhost:8080/"
    },
    "id": "BY2iWst-h4c6",
    "outputId": "85493d04-8011-44c7-c708-53f7895c0e02"
   },
   "outputs": [
    {
     "name": "stdout",
     "output_type": "stream",
     "text": [
      "Collecting catboost\n",
      "  Downloading catboost-1.0.1-cp38-none-win_amd64.whl (77.4 MB)\n",
      "Requirement already satisfied: numpy>=1.16.0 in c:\\users\\karthik\\anaconda3\\lib\\site-packages (from catboost) (1.20.1)\n",
      "Collecting plotly\n",
      "  Downloading plotly-5.3.1-py2.py3-none-any.whl (23.9 MB)\n",
      "Requirement already satisfied: scipy in c:\\users\\karthik\\anaconda3\\lib\\site-packages (from catboost) (1.6.2)\n",
      "Requirement already satisfied: matplotlib in c:\\users\\karthik\\anaconda3\\lib\\site-packages (from catboost) (3.3.4)\n",
      "Requirement already satisfied: pandas>=0.24.0 in c:\\users\\karthik\\anaconda3\\lib\\site-packages (from catboost) (1.2.4)\n",
      "Collecting graphviz\n",
      "  Downloading graphviz-0.17-py3-none-any.whl (18 kB)\n",
      "Requirement already satisfied: six in c:\\users\\karthik\\anaconda3\\lib\\site-packages (from catboost) (1.15.0)\n",
      "Requirement already satisfied: pytz>=2017.3 in c:\\users\\karthik\\anaconda3\\lib\\site-packages (from pandas>=0.24.0->catboost) (2021.1)\n",
      "Requirement already satisfied: python-dateutil>=2.7.3 in c:\\users\\karthik\\anaconda3\\lib\\site-packages (from pandas>=0.24.0->catboost) (2.8.1)\n",
      "Requirement already satisfied: pillow>=6.2.0 in c:\\users\\karthik\\anaconda3\\lib\\site-packages (from matplotlib->catboost) (8.2.0)\n",
      "Requirement already satisfied: pyparsing!=2.0.4,!=2.1.2,!=2.1.6,>=2.0.3 in c:\\users\\karthik\\anaconda3\\lib\\site-packages (from matplotlib->catboost) (2.4.7)\n",
      "Requirement already satisfied: cycler>=0.10 in c:\\users\\karthik\\anaconda3\\lib\\site-packages (from matplotlib->catboost) (0.10.0)\n",
      "Requirement already satisfied: kiwisolver>=1.0.1 in c:\\users\\karthik\\anaconda3\\lib\\site-packages (from matplotlib->catboost) (1.3.1)\n",
      "Collecting tenacity>=6.2.0\n",
      "  Downloading tenacity-8.0.1-py3-none-any.whl (24 kB)\n",
      "Installing collected packages: tenacity, plotly, graphviz, catboost\n",
      "Successfully installed catboost-1.0.1 graphviz-0.17 plotly-5.3.1 tenacity-8.0.1\n"
     ]
    }
   ],
   "source": [
    "!pip install catboost"
   ]
  },
  {
   "cell_type": "code",
   "execution_count": 55,
   "metadata": {
    "id": "BYSSvCuriGXZ"
   },
   "outputs": [],
   "source": [
    "from catboost import CatBoostClassifier as CBC"
   ]
  },
  {
   "cell_type": "code",
   "execution_count": 56,
   "metadata": {
    "id": "9SOnHPbniv17"
   },
   "outputs": [],
   "source": [
    "classifier = CBC(iterations=50, depth=3, learning_rate=0.1, loss_function='CrossEntropy')"
   ]
  },
  {
   "cell_type": "code",
   "execution_count": 57,
   "metadata": {
    "colab": {
     "base_uri": "https://localhost:8080/",
     "referenced_widgets": [
      "cf5eeb73aca94612bfb1c5255cfaf10c",
      "025735f1bec04c7ba405ec9a5be8aab3"
     ]
    },
    "id": "U38bJM2CjDnb",
    "outputId": "892b7119-2bdd-4da2-a11c-f3dc1bf6a302"
   },
   "outputs": [
    {
     "data": {
      "application/vnd.jupyter.widget-view+json": {
       "model_id": "4aaa236d86014718adcb831d4ec65b09",
       "version_major": 2,
       "version_minor": 0
      },
      "text/plain": [
       "MetricVisualizer(layout=Layout(align_self='stretch', height='500px'))"
      ]
     },
     "metadata": {},
     "output_type": "display_data"
    },
    {
     "name": "stdout",
     "output_type": "stream",
     "text": [
      "0:\tlearn: 0.6450895\ttest: 0.6464774\tbest: 0.6464774 (0)\ttotal: 149ms\tremaining: 7.31s\n",
      "1:\tlearn: 0.6102899\ttest: 0.6131103\tbest: 0.6131103 (1)\ttotal: 150ms\tremaining: 3.61s\n",
      "2:\tlearn: 0.5714276\ttest: 0.5743518\tbest: 0.5743518 (2)\ttotal: 151ms\tremaining: 2.37s\n",
      "3:\tlearn: 0.5352089\ttest: 0.5402307\tbest: 0.5402307 (3)\ttotal: 152ms\tremaining: 1.75s\n",
      "4:\tlearn: 0.5072276\ttest: 0.5125549\tbest: 0.5125549 (4)\ttotal: 153ms\tremaining: 1.38s\n",
      "5:\tlearn: 0.4855240\ttest: 0.4922577\tbest: 0.4922577 (5)\ttotal: 154ms\tremaining: 1.13s\n",
      "6:\tlearn: 0.4657055\ttest: 0.4759140\tbest: 0.4759140 (6)\ttotal: 155ms\tremaining: 951ms\n",
      "7:\tlearn: 0.4410786\ttest: 0.4517732\tbest: 0.4517732 (7)\ttotal: 157ms\tremaining: 824ms\n",
      "8:\tlearn: 0.4207710\ttest: 0.4308913\tbest: 0.4308913 (8)\ttotal: 158ms\tremaining: 721ms\n",
      "9:\tlearn: 0.4012654\ttest: 0.4130367\tbest: 0.4130367 (9)\ttotal: 159ms\tremaining: 636ms\n",
      "10:\tlearn: 0.3857518\ttest: 0.3962281\tbest: 0.3962281 (10)\ttotal: 160ms\tremaining: 567ms\n",
      "11:\tlearn: 0.3733396\ttest: 0.3852491\tbest: 0.3852491 (11)\ttotal: 170ms\tremaining: 539ms\n",
      "12:\tlearn: 0.3627450\ttest: 0.3732724\tbest: 0.3732724 (12)\ttotal: 171ms\tremaining: 487ms\n",
      "13:\tlearn: 0.3482220\ttest: 0.3603898\tbest: 0.3603898 (13)\ttotal: 172ms\tremaining: 442ms\n",
      "14:\tlearn: 0.3402899\ttest: 0.3528814\tbest: 0.3528814 (14)\ttotal: 173ms\tremaining: 403ms\n",
      "15:\tlearn: 0.3293197\ttest: 0.3426510\tbest: 0.3426510 (15)\ttotal: 174ms\tremaining: 369ms\n",
      "16:\tlearn: 0.3214673\ttest: 0.3357813\tbest: 0.3357813 (16)\ttotal: 176ms\tremaining: 342ms\n",
      "17:\tlearn: 0.3131399\ttest: 0.3263351\tbest: 0.3263351 (17)\ttotal: 178ms\tremaining: 317ms\n",
      "18:\tlearn: 0.3048439\ttest: 0.3181860\tbest: 0.3181860 (18)\ttotal: 180ms\tremaining: 294ms\n",
      "19:\tlearn: 0.2987559\ttest: 0.3114504\tbest: 0.3114504 (19)\ttotal: 181ms\tremaining: 272ms\n",
      "20:\tlearn: 0.2930763\ttest: 0.3059228\tbest: 0.3059228 (20)\ttotal: 182ms\tremaining: 251ms\n",
      "21:\tlearn: 0.2847039\ttest: 0.2998987\tbest: 0.2998987 (21)\ttotal: 183ms\tremaining: 233ms\n",
      "22:\tlearn: 0.2774825\ttest: 0.2915187\tbest: 0.2915187 (22)\ttotal: 184ms\tremaining: 216ms\n",
      "23:\tlearn: 0.2715125\ttest: 0.2849148\tbest: 0.2849148 (23)\ttotal: 185ms\tremaining: 200ms\n",
      "24:\tlearn: 0.2669155\ttest: 0.2810593\tbest: 0.2810593 (24)\ttotal: 188ms\tremaining: 188ms\n",
      "25:\tlearn: 0.2628630\ttest: 0.2766287\tbest: 0.2766287 (25)\ttotal: 189ms\tremaining: 175ms\n",
      "26:\tlearn: 0.2599120\ttest: 0.2735904\tbest: 0.2735904 (26)\ttotal: 191ms\tremaining: 163ms\n",
      "27:\tlearn: 0.2558218\ttest: 0.2703665\tbest: 0.2703665 (27)\ttotal: 192ms\tremaining: 151ms\n",
      "28:\tlearn: 0.2503198\ttest: 0.2656697\tbest: 0.2656697 (28)\ttotal: 193ms\tremaining: 140ms\n",
      "29:\tlearn: 0.2465591\ttest: 0.2616333\tbest: 0.2616333 (29)\ttotal: 194ms\tremaining: 129ms\n",
      "30:\tlearn: 0.2444929\ttest: 0.2596033\tbest: 0.2596033 (30)\ttotal: 194ms\tremaining: 119ms\n",
      "31:\tlearn: 0.2388530\ttest: 0.2563823\tbest: 0.2563823 (31)\ttotal: 195ms\tremaining: 110ms\n",
      "32:\tlearn: 0.2357653\ttest: 0.2530172\tbest: 0.2530172 (32)\ttotal: 196ms\tremaining: 101ms\n",
      "33:\tlearn: 0.2328495\ttest: 0.2502346\tbest: 0.2502346 (33)\ttotal: 198ms\tremaining: 93.1ms\n",
      "34:\tlearn: 0.2294673\ttest: 0.2461728\tbest: 0.2461728 (34)\ttotal: 199ms\tremaining: 85.4ms\n",
      "35:\tlearn: 0.2269349\ttest: 0.2440894\tbest: 0.2440894 (35)\ttotal: 201ms\tremaining: 78ms\n",
      "36:\tlearn: 0.2248432\ttest: 0.2421171\tbest: 0.2421171 (36)\ttotal: 201ms\tremaining: 70.7ms\n",
      "37:\tlearn: 0.2197403\ttest: 0.2361888\tbest: 0.2361888 (37)\ttotal: 202ms\tremaining: 63.8ms\n",
      "38:\tlearn: 0.2167706\ttest: 0.2329277\tbest: 0.2329277 (38)\ttotal: 203ms\tremaining: 57.2ms\n",
      "39:\tlearn: 0.2148264\ttest: 0.2320677\tbest: 0.2320677 (39)\ttotal: 204ms\tremaining: 50.9ms\n",
      "40:\tlearn: 0.2127729\ttest: 0.2302753\tbest: 0.2302753 (40)\ttotal: 204ms\tremaining: 44.9ms\n",
      "41:\tlearn: 0.2088833\ttest: 0.2284978\tbest: 0.2284978 (41)\ttotal: 206ms\tremaining: 39.3ms\n",
      "42:\tlearn: 0.2061236\ttest: 0.2272186\tbest: 0.2272186 (42)\ttotal: 209ms\tremaining: 34ms\n",
      "43:\tlearn: 0.2038295\ttest: 0.2247000\tbest: 0.2247000 (43)\ttotal: 211ms\tremaining: 28.8ms\n",
      "44:\tlearn: 0.2009987\ttest: 0.2227970\tbest: 0.2227970 (44)\ttotal: 212ms\tremaining: 23.6ms\n",
      "45:\tlearn: 0.1997685\ttest: 0.2220708\tbest: 0.2220708 (45)\ttotal: 213ms\tremaining: 18.5ms\n",
      "46:\tlearn: 0.1963642\ttest: 0.2200740\tbest: 0.2200740 (46)\ttotal: 214ms\tremaining: 13.6ms\n",
      "47:\tlearn: 0.1943499\ttest: 0.2185983\tbest: 0.2185983 (47)\ttotal: 214ms\tremaining: 8.93ms\n",
      "48:\tlearn: 0.1907141\ttest: 0.2134998\tbest: 0.2134998 (48)\ttotal: 215ms\tremaining: 4.39ms\n",
      "49:\tlearn: 0.1883764\ttest: 0.2116719\tbest: 0.2116719 (49)\ttotal: 217ms\tremaining: 0us\n",
      "\n",
      "bestTest = 0.211671924\n",
      "bestIteration = 49\n",
      "\n"
     ]
    },
    {
     "data": {
      "text/plain": [
       "<catboost.core.CatBoostClassifier at 0x1e8fea6a2e0>"
      ]
     },
     "execution_count": 57,
     "metadata": {},
     "output_type": "execute_result"
    }
   ],
   "source": [
    "classifier.fit(X_train, y_train,eval_set=(X_test, y_test),plot=True)"
   ]
  },
  {
   "cell_type": "code",
   "execution_count": 58,
   "metadata": {
    "id": "onrZ-lVkkwq1"
   },
   "outputs": [],
   "source": [
    "y_pred = classifier.predict(X_test)"
   ]
  },
  {
   "cell_type": "code",
   "execution_count": 59,
   "metadata": {
    "colab": {
     "base_uri": "https://localhost:8080/"
    },
    "id": "pC-afhDclSib",
    "outputId": "91656fd4-3064-4d31-9fe5-7ea293788670"
   },
   "outputs": [
    {
     "name": "stdout",
     "output_type": "stream",
     "text": [
      "[[56  6]\n",
      " [ 5 89]]\n"
     ]
    },
    {
     "data": {
      "text/plain": [
       "0.9294871794871795"
      ]
     },
     "execution_count": 59,
     "metadata": {},
     "output_type": "execute_result"
    }
   ],
   "source": [
    "cm = confusion_matrix(y_test, y_pred)\n",
    "print(cm)\n",
    "accuracy_score(y_test, y_pred)"
   ]
  },
  {
   "cell_type": "markdown",
   "metadata": {
    "id": "X5SbUCkRpNpE"
   },
   "source": [
    "# Conclusion"
   ]
  },
  {
   "cell_type": "markdown",
   "metadata": {
    "id": "dW7OiNIInXyU"
   },
   "source": [
    "**from above experiments, we could conclude that Random Forest performs better among all. Hence, we will use random forest classifier to create the early stage diabitic predictor**"
   ]
  },
  {
   "cell_type": "code",
   "execution_count": null,
   "metadata": {
    "id": "gYCbAGNYsoqy"
   },
   "outputs": [],
   "source": []
  },
  {
   "cell_type": "markdown",
   "metadata": {
    "id": "ENiIiTSX4u4h"
   },
   "source": [
    "# Saving the best model"
   ]
  },
  {
   "cell_type": "code",
   "execution_count": 60,
   "metadata": {
    "colab": {
     "base_uri": "https://localhost:8080/"
    },
    "id": "gsrhimGo4z7m",
    "outputId": "82bf872d-8351-4ba4-a137-123bd0784fa1"
   },
   "outputs": [
    {
     "data": {
      "text/plain": [
       "['Standard Scalar']"
      ]
     },
     "execution_count": 60,
     "metadata": {},
     "output_type": "execute_result"
    }
   ],
   "source": [
    "import joblib\n",
    "# saveing the model on disk\n",
    "joblib.dump(RF_classifier,\"diabetic_predictor\")\n",
    "joblib.dump(sc,\"Standard Scalar\")"
   ]
  },
  {
   "cell_type": "code",
   "execution_count": 61,
   "metadata": {
    "colab": {
     "base_uri": "https://localhost:8080/"
    },
    "id": "lNRl_0hV51ZR",
    "outputId": "2d83c142-2a11-41e6-c415-6745751497bd"
   },
   "outputs": [
    {
     "name": "stdout",
     "output_type": "stream",
     "text": [
      "0.9807692307692307\n"
     ]
    }
   ],
   "source": [
    "# load the model from disk\n",
    "loaded_model = joblib.load(\"diabetic_predictor\")\n",
    "result = loaded_model.score(X_test, y_test)\n",
    "print(result)"
   ]
  },
  {
   "cell_type": "markdown",
   "metadata": {
    "id": "uGMHXyop6jdj"
   },
   "source": [
    "now we have downloaded the model and test it again to verify if it is working properly or not. \n",
    "It is time to deploy the model for people to use it."
   ]
  }
 ],
 "metadata": {
  "colab": {
   "authorship_tag": "ABX9TyNpqDgeVOxaC32wW4ZWUWgt",
   "include_colab_link": true,
   "name": "Early stage diabetes prediction data exploration",
   "provenance": []
  },
  "kernelspec": {
   "display_name": "Python 3",
   "language": "python",
   "name": "python3"
  },
  "language_info": {
   "codemirror_mode": {
    "name": "ipython",
    "version": 3
   },
   "file_extension": ".py",
   "mimetype": "text/x-python",
   "name": "python",
   "nbconvert_exporter": "python",
   "pygments_lexer": "ipython3",
   "version": "3.8.8"
  },
  "widgets": {
   "application/vnd.jupyter.widget-state+json": {
    "025735f1bec04c7ba405ec9a5be8aab3": {
     "model_module": "@jupyter-widgets/base",
     "model_name": "LayoutModel",
     "state": {
      "_model_module": "@jupyter-widgets/base",
      "_model_module_version": "1.2.0",
      "_model_name": "LayoutModel",
      "_view_count": null,
      "_view_module": "@jupyter-widgets/base",
      "_view_module_version": "1.2.0",
      "_view_name": "LayoutView",
      "align_content": null,
      "align_items": null,
      "align_self": "stretch",
      "border": null,
      "bottom": null,
      "display": null,
      "flex": null,
      "flex_flow": null,
      "grid_area": null,
      "grid_auto_columns": null,
      "grid_auto_flow": null,
      "grid_auto_rows": null,
      "grid_column": null,
      "grid_gap": null,
      "grid_row": null,
      "grid_template_areas": null,
      "grid_template_columns": null,
      "grid_template_rows": null,
      "height": "500px",
      "justify_content": null,
      "justify_items": null,
      "left": null,
      "margin": null,
      "max_height": null,
      "max_width": null,
      "min_height": null,
      "min_width": null,
      "object_fit": null,
      "object_position": null,
      "order": null,
      "overflow": null,
      "overflow_x": null,
      "overflow_y": null,
      "padding": null,
      "right": null,
      "top": null,
      "visibility": null,
      "width": null
     }
    },
    "cf5eeb73aca94612bfb1c5255cfaf10c": {
     "model_module": "@jupyter-widgets/base",
     "model_name": "DOMWidgetModel",
     "state": {
      "_dom_classes": [],
      "_model_module": "@jupyter-widgets/base",
      "_model_module_version": "1.2.0",
      "_model_name": "DOMWidgetModel",
      "_view_count": null,
      "_view_module": "catboost_module",
      "_view_module_version": "",
      "_view_name": "CatboostIpythonWidgetView",
      "data": {
       "catboost_info": {
        "content": {
         "data": {
          "iterations": [
           {
            "iteration": 0,
            "learn": [
             0.6451216157
            ],
            "passed_time": 0.05109047134,
            "remaining_time": 2.503433096,
            "test": [
             0.6464773732
            ]
           },
           {
            "iteration": 1,
            "learn": [
             0.6103544142
            ],
            "passed_time": 0.0517819274,
            "remaining_time": 1.242766258,
            "test": [
             0.6131102779
            ]
           },
           {
            "iteration": 2,
            "learn": [
             0.5714645545
            ],
            "passed_time": 0.05247155478,
            "remaining_time": 0.8220543582,
            "test": [
             0.5743517878
            ]
           },
           {
            "iteration": 3,
            "learn": [
             0.5352098567
            ],
            "passed_time": 0.05313699421,
            "remaining_time": 0.6110754334,
            "test": [
             0.5402307177
            ]
           },
           {
            "iteration": 4,
            "learn": [
             0.5072368616
            ],
            "passed_time": 0.05382311512,
            "remaining_time": 0.484408036,
            "test": [
             0.5125548606
            ]
           },
           {
            "iteration": 5,
            "learn": [
             0.4855302676
            ],
            "passed_time": 0.05463336228,
            "remaining_time": 0.4006446567,
            "test": [
             0.4922576835
            ]
           },
           {
            "iteration": 6,
            "learn": [
             0.4657361299
            ],
            "passed_time": 0.05530003952,
            "remaining_time": 0.3397002428,
            "test": [
             0.4759139962
            ]
           },
           {
            "iteration": 7,
            "learn": [
             0.4411013317
            ],
            "passed_time": 0.05657527169,
            "remaining_time": 0.2970201764,
            "test": [
             0.4517731776
            ]
           },
           {
            "iteration": 8,
            "learn": [
             0.4207878497
            ],
            "passed_time": 0.05729374958,
            "remaining_time": 0.2610048592,
            "test": [
             0.4308913115
            ]
           },
           {
            "iteration": 9,
            "learn": [
             0.4012738895
            ],
            "passed_time": 0.05798806343,
            "remaining_time": 0.2319522537,
            "test": [
             0.4130366671
            ]
           },
           {
            "iteration": 10,
            "learn": [
             0.3857583497
            ],
            "passed_time": 0.05866819876,
            "remaining_time": 0.208005432,
            "test": [
             0.3962281449
            ]
           },
           {
            "iteration": 11,
            "learn": [
             0.3733329174
            ],
            "passed_time": 0.06029721168,
            "remaining_time": 0.1909411703,
            "test": [
             0.3852491477
            ]
           },
           {
            "iteration": 12,
            "learn": [
             0.3627322904
            ],
            "passed_time": 0.06096174459,
            "remaining_time": 0.1735065038,
            "test": [
             0.3732723748
            ]
           },
           {
            "iteration": 13,
            "learn": [
             0.3482251764
            ],
            "passed_time": 0.06162024107,
            "remaining_time": 0.1584520485,
            "test": [
             0.3603897667
            ]
           },
           {
            "iteration": 14,
            "learn": [
             0.3403047628
            ],
            "passed_time": 0.0628526603,
            "remaining_time": 0.1466562074,
            "test": [
             0.3528813778
            ]
           },
           {
            "iteration": 15,
            "learn": [
             0.3293440129
            ],
            "passed_time": 0.06398463862,
            "remaining_time": 0.1359673571,
            "test": [
             0.3426509511
            ]
           },
           {
            "iteration": 16,
            "learn": [
             0.3214899867
            ],
            "passed_time": 0.06465221628,
            "remaining_time": 0.125501361,
            "test": [
             0.3357812516
            ]
           },
           {
            "iteration": 17,
            "learn": [
             0.3131593213
            ],
            "passed_time": 0.06534362104,
            "remaining_time": 0.1161664374,
            "test": [
             0.3263351485
            ]
           },
           {
            "iteration": 18,
            "learn": [
             0.3048659506
            ],
            "passed_time": 0.06599785713,
            "remaining_time": 0.1076807143,
            "test": [
             0.3181859935
            ]
           },
           {
            "iteration": 19,
            "learn": [
             0.2987673294
            ],
            "passed_time": 0.06665200452,
            "remaining_time": 0.09997800679,
            "test": [
             0.3114504162
            ]
           },
           {
            "iteration": 20,
            "learn": [
             0.293088586
            ],
            "passed_time": 0.06732107347,
            "remaining_time": 0.0929671967,
            "test": [
             0.3059227819
            ]
           },
           {
            "iteration": 21,
            "learn": [
             0.2847184402
            ],
            "passed_time": 0.06801550862,
            "remaining_time": 0.08656519279,
            "test": [
             0.2998986595
            ]
           },
           {
            "iteration": 22,
            "learn": [
             0.2775033608
            ],
            "passed_time": 0.0686870458,
            "remaining_time": 0.08063261898,
            "test": [
             0.291518665
            ]
           },
           {
            "iteration": 23,
            "learn": [
             0.2715367071
            ],
            "passed_time": 0.06934738268,
            "remaining_time": 0.07512633124,
            "test": [
             0.2849147625
            ]
           },
           {
            "iteration": 24,
            "learn": [
             0.2669436275
            ],
            "passed_time": 0.07005465637,
            "remaining_time": 0.07005465637,
            "test": [
             0.2810592808
            ]
           },
           {
            "iteration": 25,
            "learn": [
             0.2628906917
            ],
            "passed_time": 0.07326521455,
            "remaining_time": 0.06762942881,
            "test": [
             0.2766286788
            ]
           },
           {
            "iteration": 26,
            "learn": [
             0.2599367859
            ],
            "passed_time": 0.07396365399,
            "remaining_time": 0.06300607562,
            "test": [
             0.2735904343
            ]
           },
           {
            "iteration": 27,
            "learn": [
             0.2558430866
            ],
            "passed_time": 0.074641975,
            "remaining_time": 0.05864726607,
            "test": [
             0.2703665147
            ]
           },
           {
            "iteration": 28,
            "learn": [
             0.2503432026
            ],
            "passed_time": 0.07542537424,
            "remaining_time": 0.05461837445,
            "test": [
             0.265669671
            ]
           },
           {
            "iteration": 29,
            "learn": [
             0.2465828701
            ],
            "passed_time": 0.07695633623,
            "remaining_time": 0.05130422415,
            "test": [
             0.2616333387
            ]
           },
           {
            "iteration": 30,
            "learn": [
             0.2445114222
            ],
            "passed_time": 0.07782690394,
            "remaining_time": 0.04770036048,
            "test": [
             0.2596033043
            ]
           },
           {
            "iteration": 31,
            "learn": [
             0.2388764269
            ],
            "passed_time": 0.0787251326,
            "remaining_time": 0.04428288709,
            "test": [
             0.2563823069
            ]
           },
           {
            "iteration": 32,
            "learn": [
             0.2357878565
            ],
            "passed_time": 0.07981453494,
            "remaining_time": 0.0411165786,
            "test": [
             0.2530172149
            ]
           },
           {
            "iteration": 33,
            "learn": [
             0.232876467
            ],
            "passed_time": 0.08052782594,
            "remaining_time": 0.0378954475,
            "test": [
             0.2502346337
            ]
           },
           {
            "iteration": 34,
            "learn": [
             0.2294938648
            ],
            "passed_time": 0.08145745421,
            "remaining_time": 0.03491033752,
            "test": [
             0.246172754
            ]
           },
           {
            "iteration": 35,
            "learn": [
             0.2269638305
            ],
            "passed_time": 0.08213844692,
            "remaining_time": 0.03194272936,
            "test": [
             0.2440893518
            ]
           },
           {
            "iteration": 36,
            "learn": [
             0.224873348
            ],
            "passed_time": 0.0830348143,
            "remaining_time": 0.02917439421,
            "test": [
             0.2421171085
            ]
           },
           {
            "iteration": 37,
            "learn": [
             0.2197719469
            ],
            "passed_time": 0.08372326257,
            "remaining_time": 0.02643892502,
            "test": [
             0.2361887706
            ]
           },
           {
            "iteration": 38,
            "learn": [
             0.2168036504
            ],
            "passed_time": 0.08436259015,
            "remaining_time": 0.02379457671,
            "test": [
             0.2329276593
            ]
           },
           {
            "iteration": 39,
            "learn": [
             0.2148580641
            ],
            "passed_time": 0.08524428772,
            "remaining_time": 0.02131107193,
            "test": [
             0.2320676796
            ]
           },
           {
            "iteration": 40,
            "learn": [
             0.2128030966
            ],
            "passed_time": 0.08603195909,
            "remaining_time": 0.01888506419,
            "test": [
             0.2302753219
            ]
           },
           {
            "iteration": 41,
            "learn": [
             0.2089119569
            ],
            "passed_time": 0.08680390021,
            "remaining_time": 0.01653407623,
            "test": [
             0.2284978186
            ]
           },
           {
            "iteration": 42,
            "learn": [
             0.2061516865
            ],
            "passed_time": 0.0875604411,
            "remaining_time": 0.0142540253,
            "test": [
             0.2272185607
            ]
           },
           {
            "iteration": 43,
            "learn": [
             0.2038589321
            ],
            "passed_time": 0.0883844707,
            "remaining_time": 0.01205242782,
            "test": [
             0.2247000122
            ]
           },
           {
            "iteration": 44,
            "learn": [
             0.2010282857
            ],
            "passed_time": 0.08918102413,
            "remaining_time": 0.009909002681,
            "test": [
             0.2227969791
            ]
           },
           {
            "iteration": 45,
            "learn": [
             0.1997979596
            ],
            "passed_time": 0.09014916495,
            "remaining_time": 0.007839057822,
            "test": [
             0.2220707547
            ]
           },
           {
            "iteration": 46,
            "learn": [
             0.1963933626
            ],
            "passed_time": 0.09098223053,
            "remaining_time": 0.005807376417,
            "test": [
             0.2200739976
            ]
           },
           {
            "iteration": 47,
            "learn": [
             0.1943766943
            ],
            "passed_time": 0.09180164149,
            "remaining_time": 0.003825068395,
            "test": [
             0.2185983235
            ]
           },
           {
            "iteration": 48,
            "learn": [
             0.1907415125
            ],
            "passed_time": 0.09249162191,
            "remaining_time": 0.001887584121,
            "test": [
             0.21349982
            ]
           },
           {
            "iteration": 49,
            "learn": [
             0.1884041605
            ],
            "passed_time": 0.09312713824,
            "remaining_time": 0,
            "test": [
             0.211671924
            ]
           }
          ],
          "meta": {
           "iteration_count": 50,
           "launch_mode": "Train",
           "learn_metrics": [
            {
             "best_value": "Min",
             "name": "CrossEntropy"
            }
           ],
           "learn_sets": [
            "learn"
           ],
           "name": "experiment",
           "parameters": "",
           "test_metrics": [
            {
             "best_value": "Min",
             "name": "CrossEntropy"
            }
           ],
           "test_sets": [
            "test"
           ]
          }
         },
         "passed_iterations": 49,
         "total_iterations": 50
        },
        "name": "catboost_info",
        "path": "catboost_info"
       }
      },
      "layout": "IPY_MODEL_025735f1bec04c7ba405ec9a5be8aab3"
     }
    }
   }
  }
 },
 "nbformat": 4,
 "nbformat_minor": 1
}
